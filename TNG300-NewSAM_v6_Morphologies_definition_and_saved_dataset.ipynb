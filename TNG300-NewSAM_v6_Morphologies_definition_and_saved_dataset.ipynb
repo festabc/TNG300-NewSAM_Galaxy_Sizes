{
 "cells": [
  {
   "cell_type": "code",
   "execution_count": 1,
   "metadata": {},
   "outputs": [],
   "source": [
    "import time\n",
    "import numpy as np\n",
    "import pandas as pd\n",
    "\n",
    "import galsim #install with conda install -c conda_forge galsim\n",
    "\n",
    "import matplotlib.pyplot as plt\n",
    "from matplotlib import pyplot\n",
    "import matplotlib.cm as cm\n",
    "import matplotlib.colors as norm\n",
    "from matplotlib.gridspec import SubplotSpec\n",
    "import seaborn as sns\n",
    "\n",
    "from scipy import stats\n",
    "from sklearn.linear_model import LinearRegression\n",
    "from sklearn.ensemble import RandomForestRegressor\n",
    "from sklearn import svm\n",
    "from sklearn.svm import SVR\n",
    "\n",
    "from sklearn.model_selection import train_test_split\n",
    "from sklearn.model_selection import RandomizedSearchCV, GridSearchCV\n",
    "from sklearn.model_selection import cross_validate, KFold, StratifiedKFold\n",
    "from sklearn.model_selection import cross_val_predict\n",
    "from sklearn.model_selection import cross_val_score\n",
    "from sklearn.metrics import r2_score\n",
    "from sklearn.inspection import permutation_importance\n",
    "from sklearn.pipeline import make_pipeline #This allows one to build different steps together\n",
    "from sklearn.preprocessing import StandardScaler, RobustScaler\n",
    "\n",
    "from tqdm import tqdm \n",
    "\n",
    "import target_predicting_ML_functions_and_feature_ranking as functions\n",
    "import RF_target_predicting_and_learning_curves_functions as tp_lc_functions"
   ]
  },
  {
   "cell_type": "code",
   "execution_count": 2,
   "metadata": {},
   "outputs": [
    {
     "data": {
      "text/plain": [
       "(207467, 59)"
      ]
     },
     "execution_count": 2,
     "metadata": {},
     "output_type": "execute_result"
    }
   ],
   "source": [
    "# Raw dataset from TNG300 Notebook v1,\n",
    "# the version of dataset without non-physical galaxies whose Mstar/Mvir (GalpropNormMstar) > 0.2,\n",
    "# and with stellar mass cut at log10Mstar>9.0\n",
    "# and without fdisk<0.02 galaxies\n",
    "df_not_normalized = pd.read_csv ('TNG300-SAM_images/v1_TNG300-SAM_cleanup_normalize_dataset/TNG300-NewSAM_Raw_Dataset_fromv1_wo_nonphys_mstar9_and_diskgals_w_smallfdisk.csv') \n",
    "\n",
    "df_not_normalized = df_not_normalized.loc[:, :]\n",
    "df_not_normalized.shape"
   ]
  },
  {
   "cell_type": "code",
   "execution_count": 3,
   "metadata": {},
   "outputs": [
    {
     "data": {
      "text/plain": [
       "(28062, 59)"
      ]
     },
     "execution_count": 3,
     "metadata": {},
     "output_type": "execute_result"
    }
   ],
   "source": [
    "# There are 28,062 galaxies with Spin<0.02\n",
    "df_not_normalized[df_not_normalized.HalopropSpin<0.02].shape"
   ]
  },
  {
   "cell_type": "code",
   "execution_count": 4,
   "metadata": {},
   "outputs": [],
   "source": [
    "# Set all Spin<0.02 equal to 0.02\n",
    "df_not_normalized.loc[:,'HalopropSpin_effective']=df_not_normalized.loc[:,'HalopropSpin'].apply(lambda x: 0.02 if x<0.02 else x)"
   ]
  },
  {
   "cell_type": "code",
   "execution_count": 5,
   "metadata": {},
   "outputs": [],
   "source": [
    "df_not_normalized = df_not_normalized.drop(columns=['HalopropSpin'])"
   ]
  },
  {
   "cell_type": "code",
   "execution_count": 6,
   "metadata": {},
   "outputs": [],
   "source": [
    "# Rename Spin_effective back to Spin because all the rest of the code has this name used\n",
    "df_not_normalized = df_not_normalized.rename(columns={'HalopropSpin_effective': 'HalopropSpin'})"
   ]
  },
  {
   "cell_type": "code",
   "execution_count": 7,
   "metadata": {},
   "outputs": [
    {
     "data": {
      "text/plain": [
       "(207467, 38)"
      ]
     },
     "execution_count": 7,
     "metadata": {},
     "output_type": "execute_result"
    }
   ],
   "source": [
    "# Normalized (in better words, dimensionless) dataset from TNG300 Notebook v1: \n",
    "# all masses divided by halo mass (Mvir), halfmass radius divided by halo size (Rhalo);\n",
    "# the version of dataset without non-physical galaxies whose Mstar/Mvir (GalpropNormMstar) > 0.2\n",
    "# and with stellar mass cut at log10Mstar>9.0\n",
    "# and without fdisk<0.02 galaxies\n",
    "\n",
    "# read the same file again\n",
    "df_normalized_35 = pd.read_csv('TNG300-SAM_images/v1_TNG300-SAM_cleanup_normalize_dataset/TNG300-NewSAM_Normalized_Dataset_fromv1_wo_mstar9_nonphys_and_diskgals_w_smallfdsik.csv')\n",
    "# Set all Spin<0.02 equal to 0.02\n",
    "df_normalized_35.loc[:,'HalopropSpin_effective']=df_normalized_35.loc[:,'HalopropSpin'].apply(lambda x: 0.02 if x<0.02 else x)\n",
    "df_normalized_35 = df_normalized_35.drop(columns=['HalopropSpin'])\n",
    "# Rename Spin_effective back to Spin because all the rest of the code has this name used\n",
    "df_normalized_35 = df_normalized_35.rename(columns={'HalopropSpin_effective': 'HalopropSpin'})\n",
    "\n",
    "df_normalized_35.shape"
   ]
  },
  {
   "cell_type": "code",
   "execution_count": 8,
   "metadata": {},
   "outputs": [],
   "source": [
    "import os\n",
    "# os.mkdir('TNG300-SAM_images/v6_TNG300-SAM_Morphologies_definition')"
   ]
  },
  {
   "cell_type": "code",
   "execution_count": 9,
   "metadata": {},
   "outputs": [],
   "source": [
    "# df_normalized_35.to_csv('TNG300-SAM_images/v6_TNG300-SAM_Morphologies_definition/v6_TNG300-NewSAM_Normalized_Dataset_fromv1_wo_mstar9_nonphys_and_diskgals_w_smallfdsik_w_spineff.csv', index=False)\n",
    "# df_not_normalized.to_csv('TNG300-SAM_images/v6_TNG300-SAM_Morphologies_definition/v6_TNG300-NewSAM_Raw_Dataset_fromv1_wo_nonphys_mstar9_and_diskgals_w_smallfdisk_w_spineff.csv', index=False)"
   ]
  },
  {
   "cell_type": "code",
   "execution_count": 11,
   "metadata": {},
   "outputs": [
    {
     "name": "stdout",
     "output_type": "stream",
     "text": [
      "df_1.shape (52053, 38)\n",
      "df_1_raw.shape (52053, 59)\n",
      "df_2.shape (64494, 38)\n",
      "df_2_raw.shape (64494, 59)\n",
      "df_3.shape (28372, 38)\n",
      "df_3_raw.shape (28372, 59)\n",
      "df_4.shape (13582, 38)\n",
      "df_4_raw.shape (13582, 59)\n",
      "df_5.shape (13539, 38)\n",
      "df_5_raw.shape (13539, 59)\n",
      "df_6.shape (10167, 38)\n",
      "df_6_raw.shape (10167, 59)\n",
      "df_7.shape (8367, 38)\n",
      "df_7_raw.shape (8367, 59)\n",
      "df_8.shape (6853, 38)\n",
      "df_8_raw.shape (6853, 59)\n",
      "df_9.shape (10040, 38)\n",
      "df_9_raw.shape (10040, 59)\n",
      "df_14.shape (158501, 38)\n",
      "df_14_raw.shape (158501, 59)\n"
     ]
    }
   ],
   "source": [
    "# 52,053 galaxies in df_1\n",
    "df_1 = df_normalized_35.loc[df_normalized_35.loc[:, 'BulgeMstar_ratio']<=0.10] \n",
    "df_1_raw = df_not_normalized.loc[df_not_normalized.loc[:, 'BulgeMstar_ratio']<=0.10] \n",
    "# df_1.to_csv('TNG300-SAM_images/v6_TNG300-SAM_Morphologies_definition/df_1_Normalized_as_defined_in_TNG300notebook_v6', index=False)\n",
    "# df_1_raw.to_csv('TNG300-SAM_images/v6_TNG300-SAM_Morphologies_definition/df_1_Raw_as_defined_in_TNG300notebook_v6', index=False)\n",
    "print(\"df_1.shape\", df_1.shape)\n",
    "print(\"df_1_raw.shape\", df_1_raw.shape)\n",
    "\n",
    "# 64,494 galaxies in df_2\n",
    "df_2 = df_normalized_35.loc[(df_normalized_35.BulgeMstar_ratio > 0.10) & (df_normalized_35.BulgeMstar_ratio <= 0.20)] \n",
    "df_2_raw = df_not_normalized.loc[(df_not_normalized.BulgeMstar_ratio > 0.10) & (df_not_normalized.BulgeMstar_ratio <= 0.20)] \n",
    "# df_2.to_csv('TNG300-SAM_images/v6_TNG300-SAM_Morphologies_definition/df_2_Normalized_as_defined_in_TNG300notebook_v6', index=False)\n",
    "# df_2_raw.to_csv('TNG300-SAM_images/v6_TNG300-SAM_Morphologies_definition/df_2_Raw_as_defined_in_TNG300notebook_v6', index=False)\n",
    "print(\"df_2.shape\", df_2.shape)\n",
    "print(\"df_2_raw.shape\", df_2_raw.shape)\n",
    "\n",
    "# 28,372 galaxies in df_3\n",
    "df_3 = df_normalized_35.loc[(df_normalized_35.BulgeMstar_ratio > 0.20) & (df_normalized_35.BulgeMstar_ratio <= 0.30)] \n",
    "df_3_raw = df_not_normalized.loc[(df_not_normalized.BulgeMstar_ratio > 0.20) & (df_not_normalized.BulgeMstar_ratio <= 0.30)] \n",
    "# df_3.to_csv('TNG300-SAM_images/v6_TNG300-SAM_Morphologies_definition/df_3_Normalized_as_defined_in_TNG300notebook_v6', index=False)\n",
    "# df_3_raw.to_csv('TNG300-SAM_images/v6_TNG300-SAM_Morphologies_definition/df_3_Raw_as_defined_in_TNG300notebook_v6', index=False)\n",
    "print(\"df_3.shape\", df_3.shape)\n",
    "print(\"df_3_raw.shape\", df_3_raw.shape)\n",
    "\n",
    "# 13,582 galaxies in df_4\n",
    "df_4 = df_normalized_35.loc[(df_normalized_35.BulgeMstar_ratio > 0.30) & (df_normalized_35.BulgeMstar_ratio <= 0.40)] \n",
    "df_4_raw = df_not_normalized.loc[(df_not_normalized.BulgeMstar_ratio > 0.30) & (df_not_normalized.BulgeMstar_ratio <= 0.40)] \n",
    "# df_4.to_csv('TNG300-SAM_images/v6_TNG300-SAM_Morphologies_definition/df_4_Normalized_as_defined_in_TNG300notebook_v6', index=False)\n",
    "# df_4_raw.to_csv('TNG300-SAM_images/v6_TNG300-SAM_Morphologies_definition/df_4_Raw_as_defined_in_TNG300notebook_v6', index=False)\n",
    "print(\"df_4.shape\", df_4.shape)\n",
    "print(\"df_4_raw.shape\", df_4_raw.shape)\n",
    "\n",
    "# 13,539 galaxies in df_5\n",
    "df_5 = df_normalized_35.loc[(df_normalized_35.BulgeMstar_ratio > 0.40) & (df_normalized_35.BulgeMstar_ratio <= 0.50)] \n",
    "df_5_raw = df_not_normalized.loc[(df_not_normalized.BulgeMstar_ratio > 0.40) & (df_not_normalized.BulgeMstar_ratio <= 0.50)] \n",
    "# df_5.to_csv('TNG300-SAM_images/v6_TNG300-SAM_Morphologies_definition/df_5_Normalized_as_defined_in_TNG300notebook_v6', index=False)\n",
    "# df_5_raw.to_csv('TNG300-SAM_images/v6_TNG300-SAM_Morphologies_definition/df_5_Raw_as_defined_in_TNG300notebook_v6', index=False)\n",
    "print(\"df_5.shape\", df_5.shape)\n",
    "print(\"df_5_raw.shape\", df_5_raw.shape)\n",
    "\n",
    "# ... galaxies in df_6\n",
    "df_6 = df_normalized_35.loc[(df_normalized_35.BulgeMstar_ratio > 0.50) & (df_normalized_35.BulgeMstar_ratio <= 0.60)] \n",
    "df_6_raw = df_not_normalized.loc[(df_not_normalized.BulgeMstar_ratio > 0.50) & (df_not_normalized.BulgeMstar_ratio <= 0.60)] \n",
    "# df_6.to_csv('TNG300-SAM_images/v6_TNG300-SAM_Morphologies_definition/df_6_Normalized_as_defined_in_TNG300notebook_v6', index=False)\n",
    "# df_6_raw.to_csv('TNG300-SAM_images/v6_TNG300-SAM_Morphologies_definition/df_6_Raw_as_defined_in_TNG300notebook_v6', index=False)\n",
    "print(\"df_6.shape\", df_6.shape)\n",
    "print(\"df_6_raw.shape\", df_6_raw.shape)\n",
    "\n",
    "# ... galaxies in df_7\n",
    "df_7 = df_normalized_35.loc[(df_normalized_35.BulgeMstar_ratio > 0.60) & (df_normalized_35.BulgeMstar_ratio <= 0.70)] \n",
    "df_7_raw = df_not_normalized.loc[(df_not_normalized.BulgeMstar_ratio > 0.60) & (df_not_normalized.BulgeMstar_ratio <= 0.70)] \n",
    "# df_7.to_csv('TNG300-SAM_images/v6_TNG300-SAM_Morphologies_definition/df_7_Normalized_as_defined_in_TNG300notebook_v6', index=False)\n",
    "# df_7_raw.to_csv('TNG300-SAM_images/v6_TNG300-SAM_Morphologies_definition/df_7_Raw_as_defined_in_TNG300notebook_v6', index=False)\n",
    "print(\"df_7.shape\", df_7.shape)\n",
    "print(\"df_7_raw.shape\", df_7_raw.shape)\n",
    "\n",
    "# ... galaxies in df_8\n",
    "df_8 = df_normalized_35.loc[(df_normalized_35.BulgeMstar_ratio > 0.70) & (df_normalized_35.BulgeMstar_ratio <= 0.80)] \n",
    "df_8_raw = df_not_normalized.loc[(df_not_normalized.BulgeMstar_ratio > 0.70) & (df_not_normalized.BulgeMstar_ratio <= 0.80)] \n",
    "# df_8.to_csv('TNG300-SAM_images/v6_TNG300-SAM_Morphologies_definition/df_8_Normalized_as_defined_in_TNG300notebook_v6', index=False)\n",
    "# df_8_raw.to_csv('TNG300-SAM_images/v6_TNG300-SAM_Morphologies_definition/df_8_Raw_as_defined_in_TNG300notebook_v6', index=False)\n",
    "print(\"df_8.shape\", df_8.shape)\n",
    "print(\"df_8_raw.shape\", df_8_raw.shape)\n",
    "\n",
    "# 10,040 galaxies in df_9\n",
    "df_9 = df_normalized_35.loc[df_normalized_35.loc[:, 'BulgeMstar_ratio']>0.80] \n",
    "df_9_raw = df_not_normalized.loc[df_not_normalized.loc[:, 'BulgeMstar_ratio']>0.80] \n",
    "# df_9.to_csv('TNG300-SAM_images/v6_TNG300-SAM_Morphologies_definition/df_9_Normalized_as_defined_in_TNG300notebook_v6', index=False)\n",
    "# df_9_raw.to_csv('TNG300-SAM_images/v6_TNG300-SAM_Morphologies_definition/df_9_Raw_as_defined_in_TNG300notebook_v6', index=False)\n",
    "print(\"df_9.shape\", df_9.shape)\n",
    "print(\"df_9_raw.shape\", df_9_raw.shape)\n",
    "\n",
    "# Combined Disk morphologies 1 to 4 in order to fit one physical model to all of them; \n",
    "# 158,501 galaxies in the 1-4 morphologies, out of a total of ~207,000\n",
    "df_14 = df_normalized_35.loc[df_normalized_35.BulgeMstar_ratio <= 0.40] #normalized\n",
    "df_14_raw = df_not_normalized.loc[df_not_normalized.BulgeMstar_ratio <= 0.40] \n",
    "# df_14.to_csv('TNG300-SAM_images/v6_TNG300-SAM_Morphologies_definition/df_14_Normalized_as_defined_in_TNG300notebook_v6', index=False)\n",
    "# df_14_raw.to_csv('TNG300-SAM_images/v6_TNG300-SAM_Morphologies_definition/df_14_Raw_as_defined_in_TNG300notebook_v6', index=False)\n",
    "print(\"df_14.shape\", df_14.shape)\n",
    "print(\"df_14_raw.shape\", df_14_raw.shape)"
   ]
  },
  {
   "cell_type": "code",
   "execution_count": 8,
   "metadata": {},
   "outputs": [
    {
     "name": "stdout",
     "output_type": "stream",
     "text": [
      "df_58.shape (38926, 38)\n",
      "df_58_raw.shape (38926, 59)\n"
     ]
    }
   ],
   "source": [
    "# Combined Elliptical morphologies 5 to 8 in order to fit one physical model to all of them; \n",
    "# 38,926 galaxies in the 5-8 morphologies, out of a total of ~207,000\n",
    "df_58 = df_normalized_35.loc[(df_normalized_35.BulgeMstar_ratio > 0.40) & (df_normalized_35.BulgeMstar_ratio <= 0.80)] #normalized\n",
    "df_58_raw = df_not_normalized.loc[(df_not_normalized.BulgeMstar_ratio > 0.40) & (df_not_normalized.BulgeMstar_ratio <= 0.80)] \n",
    "# df_58.to_csv('TNG300-SAM_images/v6_TNG300-SAM_Morphologies_definition/df_58_Normalized_as_defined_in_TNG300notebook_v6', index=False)\n",
    "# df_58_raw.to_csv('TNG300-SAM_images/v6_TNG300-SAM_Morphologies_definition/df_58_Raw_as_defined_in_TNG300notebook_v6', index=False)\n",
    "print(\"df_58.shape\", df_58.shape)\n",
    "print(\"df_58_raw.shape\", df_58_raw.shape)"
   ]
  },
  {
   "cell_type": "code",
   "execution_count": null,
   "metadata": {},
   "outputs": [],
   "source": []
  },
  {
   "cell_type": "code",
   "execution_count": null,
   "metadata": {},
   "outputs": [],
   "source": []
  },
  {
   "cell_type": "code",
   "execution_count": null,
   "metadata": {},
   "outputs": [],
   "source": []
  },
  {
   "cell_type": "code",
   "execution_count": 4,
   "metadata": {},
   "outputs": [],
   "source": [
    "dd = pd.read_csv('/Users/festabu/Desktop/ML_galaxy_size_project/Codes/TNG300-SAM_images/SR_df_7_wspineff_run3_ellipticals_eqn_search/hall_of_fame_2023-04-06_234909.339.csv', sep='|')"
   ]
  },
  {
   "cell_type": "code",
   "execution_count": 5,
   "metadata": {},
   "outputs": [
    {
     "name": "stdout",
     "output_type": "stream",
     "text": [
      "0.023591585\n",
      "(0.01835729 / GalpropNormSigmaBulge)\n",
      "(0.012798642 / square(GalpropNormSigmaBulge))\n",
      "(pow(HalopropSpin, GalpropNormSigmaBulge) / 4.8259325)\n",
      "square((-0.104911506 / GalpropNormSigmaBulge) - GalpropNormMcold)\n",
      "(pow(GalpropNormMstar + GalpropNormMcold, GalpropNormSigmaBulge) / 2.7574792)\n",
      "square(((-0.08844264 - GalpropNormMcold) - GalpropNormMstar) / GalpropNormSigmaBulge)\n",
      "((pow(GalpropNormMstar + GalpropNormMcold, GalpropNormSigmaBulge) / 3.4845552) + 0.006824277)\n",
      "square((-0.103109956 - pow(GalpropNormMcold + GalpropNormMstar, GalpropNormSigmaBulge)) + GalpropNormMcold)\n",
      "(((pow(GalpropNormMstar + GalpropNormMcold, GalpropNormSigmaBulge) - GalpropNormMcold) / 2.6337867) - -0.005257287)\n"
     ]
    }
   ],
   "source": [
    "for i in range(10):\n",
    "    print(dd.loc[i,'Equation'])"
   ]
  },
  {
   "cell_type": "code",
   "execution_count": null,
   "metadata": {},
   "outputs": [],
   "source": [
    "# ((pow(GalpropNormMHII, GalpropNormSigmaBulge) + pow(GalpropNormMstar, GalpropNormSigmaBulge)) * 0.45374486)\n",
    "\n",
    "sr_gr7ellip_v1_eqn4 = 0.45 * (df_7.loc[:, 'GalpropNormMHII']**df_7.loc[:, 'GalpropNormSigmaBulge'] \\\n",
    "                              + df_7.loc[:, 'GalpropNormMstar']**df_7.loc[:, 'GalpropNormSigmaBulge'])\n",
    "\n",
    "r2_score_gr7ellipticals4=r2_score(df_7.loc[:, 'GalpropNormHalfRadius'], sr_gr7ellip_v1_eqn4)\n",
    "\n",
    "fig_complete, ax = plt.subplots(figsize=(7, 5))\n",
    "\n",
    "fig_SR = ax.scatter(df_7.loc[:, 'GalpropNormHalfRadius'], sr_gr7ellip_v1_eqn4,\n",
    "            c = df_7_raw.loc[:, 'GalpropMbulge']/df_7_raw.loc[:, 'GalpropMstar'], \n",
    "            cmap='Spectral_r',\n",
    "            s=10, marker='.', alpha=0.7,label= r'$\\frac{M_{bulge}}{M_{star}}$', vmin=0.5, vmax=0.9)\n",
    "ax.text(0.02, 0.17, '$R^{2}$ score=' + '{:.2f}'.format(r2_score_gr7ellipticals4), size=12)\n",
    "ax.axis([0.0,0.2, 0.0,0.2])\n",
    "ax.plot([0.0, 0.3], [0.0, 0.3], color = 'black', linewidth = 2)\n",
    "ax.set_title(r'Group 7 Ellipticals 0.5<$\\frac{M_{bulge}}{M_{star}}$<0.8' +'\\n' + r' Eqn =0.45*[$NormMbulge^{NormSigmaBugle}$ + $NormMstar^{NormSigmaBulge}$]')\n",
    "ax.set_xlabel('True Galaxy Size/Halo Size')\n",
    "ax.legend(loc = 'lower right', shadow=True)\n",
    "ax.set_ylabel('Predicted Galaxy Size/Halo Size by SR eqn ')\n",
    "fig_complete.colorbar(fig_SR, ax=ax)\n",
    "# plt.savefig('TNG300-SAM_images/v5_TNG300-SAM_wo_DISKgals_w_smallfdisk_wspineff/v5_Group7_ellipticals_SR_v1eqn4_dimensionless_MbulgeMstarcolor.jpeg', dpi=500)\n",
    "plt.show()"
   ]
  }
 ],
 "metadata": {
  "kernelspec": {
   "display_name": "native",
   "language": "python",
   "name": "native"
  },
  "language_info": {
   "codemirror_mode": {
    "name": "ipython",
    "version": 3
   },
   "file_extension": ".py",
   "mimetype": "text/x-python",
   "name": "python",
   "nbconvert_exporter": "python",
   "pygments_lexer": "ipython3",
   "version": "3.9.7"
  }
 },
 "nbformat": 4,
 "nbformat_minor": 4
}
